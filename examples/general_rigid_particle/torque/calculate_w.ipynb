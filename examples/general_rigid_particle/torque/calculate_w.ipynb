{
 "cells": [
  {
   "cell_type": "code",
   "execution_count": 7,
   "metadata": {},
   "outputs": [],
   "source": [
    "import glob\n",
    "import numpy as np\n",
    "import pandas as pd\n",
    "from pylab import *\n",
    "import matplotlib.pyplot as plt\n",
    "from numpy import linalg as LA\n",
    "import os\n",
    "from scipy.spatial import distance\n",
    "import matplotlib\n",
    "from mpl_toolkits.mplot3d import Axes3D\n",
    "import matplotlib.colors as colors\n",
    "from scipy import special, optimize\n",
    "from scipy.interpolate import InterpolatedUnivariateSpline\n",
    "import sys\n",
    "\n",
    "# add cwd to path when script run by slurm\n",
    "sys.path.append(os.getcwd())\n",
    "\n",
    "a = 3\n",
    "n_spheres=1\n",
    "color_list = []\n",
    "for color in colors.cnames:\n",
    "    color_list.append(color)"
   ]
  },
  {
   "cell_type": "code",
   "execution_count": 8,
   "metadata": {},
   "outputs": [],
   "source": [
    "# ### 0.2 define helper functions\n",
    "# 2)preprocess df_time, df_pnode, df_pcenter\n",
    "def preprocess_dataframe(df_time,df_pcenter,df_pnode):\n",
    "\n",
    "    return num_of_particles, num_of_nodes, num_of_steps"
   ]
  },
  {
   "cell_type": "code",
   "execution_count": 11,
   "metadata": {},
   "outputs": [
    {
     "name": "stdout",
     "output_type": "stream",
     "text": [
      "analyze timefile: out.time\n",
      "analyze particle center file: output_particle_trajectory.csv\n",
      "analyze surface node file: output_surface_node.csv\n",
      "100\n",
      "       particle_id  node_id   x_coord  y_coord   z_coord  \\\n",
      "16664            0      164 -0.093785  2.93846  0.595534   \n",
      "\n",
      "       node_center_distance  o_step  particle_type_id  \n",
      "16664              3.000978     100                 0  \n",
      "     particle_id   x_coord   y_coord   z_coord     x_vel     y_vel     z_vel  \\\n",
      "100            0  0.001071 -0.001699  0.001954 -0.000072  0.000003 -0.000024   \n",
      "\n",
      "      x_force   y_force   z_force  o_step  particle_type_id  \n",
      "100 -0.011869  0.000508 -0.004026     100                 0  \n",
      "     step_id  o_step  real_time\n",
      "100    10000     100       10.0\n"
     ]
    }
   ],
   "source": [
    "# ### 1.  Analyze data\n",
    "# **1. process dataframe**\n",
    "datapath = os.getcwd()\n",
    "timefile = \"out.time\"\n",
    "pcenterfile = \"output_particle_trajectory.csv\"\n",
    "pnodefile = \"output_surface_node.csv\"\n",
    "print (\"analyze timefile: %s\"% timefile)\n",
    "print (\"analyze particle center file: %s\"%pcenterfile)\n",
    "print (\"analyze surface node file: %s\"%pnodefile)\n",
    "df_time = pd.read_csv(timefile,delimiter=\" \",engine='python')\n",
    "df_time = df_time.dropna(axis=1)\n",
    "df_time.columns=[\"step_id\",\"o_step\",\"real_time\"]\n",
    "df_pcenter = pd.read_csv(pcenterfile,delimiter=\" \",engine='python',skiprows=1, header=None,comment=\"#\")\n",
    "df_pcenter = df_pcenter.dropna(axis=1)\n",
    "df_pcenter.columns=[\"particle_id\",\"x_coord\",\"y_coord\",\"z_coord\",\"x_vel\",\"y_vel\",\"z_vel\",\"x_force\",\"y_force\",\"z_force\"]\n",
    "df_pnode = pd.read_csv(pnodefile,delimiter=\" \",engine='python',skiprows=1, header=None,comment=\"#\")\n",
    "df_pnode = df_pnode.dropna(axis=1)\n",
    "df_pnode.columns=[\"particle_id\",\"node_id\",\"x_coord\",\"y_coord\",\"z_coord\",\"node_center_distance\"]\n",
    "# process dataframe    # compute total number of nodes among all particles\n",
    "num_of_nodes = 0\n",
    "for particle_id in df_pnode.particle_id.unique():\n",
    "    num_of_nodes += df_pnode[df_pnode.particle_id==particle_id].node_id.unique().shape[0]\n",
    "num_of_particles = df_pnode.particle_id.unique().shape[0]\n",
    "# add \"o_step\" column to df_pcenter\n",
    "df_pcenter[\"o_step\"] = pd.Series(df_pcenter.index.values//num_of_particles,index=df_pcenter.index)\n",
    "# add \"particle_type_id\" column to df_pcenter\n",
    "df_pcenter[\"particle_type_id\"] = pd.Series(df_pcenter[\"particle_id\"].values >= n_spheres, index=df_pcenter.index) * 1\n",
    "# add \"o_step\" column to df_node\n",
    "df_pnode[\"o_step\"] = pd.Series(df_pnode.index.values // num_of_nodes,index=df_pnode.index)\n",
    "# add \"particle_type_id\" column to df_pnode\n",
    "df_pnode[\"particle_type_id\"] = pd.Series(df_pnode[\"particle_id\"].values >= n_spheres, index=df_pnode.index) * 1\n",
    "# the minimum final o_step\n",
    "final_o_step = np.min([df_pcenter.o_step.values[-1],df_pnode.o_step.values[-1],df_time.o_step.values[-1]])\n",
    "print(final_o_step)\n",
    "df_time = df_time[df_time.o_step<=final_o_step]\n",
    "df_pcenter = df_pcenter[df_pcenter.o_step<=final_o_step]\n",
    "df_pnode = df_pnode[df_pnode.o_step<=final_o_step]\n",
    "num_of_steps=final_o_step\n",
    "print(df_pnode.tail(1))\n",
    "print(df_pcenter.tail(1))\n",
    "print(df_time.tail(1))\n",
    "# add \"real_time\" column to df_pnode and df_pcenter\n",
    "real_time_matrix = df_time.real_time.values\n",
    "df_pcenter[\"real_time\"]=df_pcenter[\"o_step\"].apply(lambda x: real_time_matrix[x])\n",
    "df_pnode[\"real_time\"] = df_pnode[\"o_step\"].apply(lambda x: real_time_matrix[x])"
   ]
  },
  {
   "cell_type": "code",
   "execution_count": 115,
   "metadata": {},
   "outputs": [],
   "source": [
    "o_interval = 10\n",
    "times, w_means, w_stds = [], [], []\n",
    "for o_id in range(df_pnode[\"o_step\"].max() - o_interval):\n",
    "    time_s = df_pnode[df_pnode[\"o_step\"]==o_id][\"real_time\"].iloc[0]\n",
    "    time_e = df_pnode[df_pnode[\"o_step\"]==(o_id+o_interval)][\"real_time\"].iloc[0]\n",
    "    pt_s = df_pnode[df_pnode[\"o_step\"]==o_id][[\"x_coord\", \"y_coord\", \"z_coord\"]].values\n",
    "    pt_e = df_pnode[df_pnode[\"o_step\"]==(o_id+o_interval)][[\"x_coord\", \"y_coord\", \"z_coord\"]].values\n",
    "    r = np.sqrt(a**2 - pt_s[:,2]**2)\n",
    "    ds = LA.norm(pt_e - pt_s, axis=1)\n",
    "    dt = time_e - time_s\n",
    "    w = ds / r /dt\n",
    "    w_means.append(np.mean(w))\n",
    "    w_stds.append(np.std(w))\n",
    "    times.append(time_s)"
   ]
  },
  {
   "cell_type": "code",
   "execution_count": 117,
   "metadata": {},
   "outputs": [
    {
     "data": {
      "image/png": "[encoded data removed]",
      "text/plain": [
       "<Figure size 432x288 with 1 Axes>"
      ]
     },
     "metadata": {
      "needs_background": "light"
     },
     "output_type": "display_data"
    }
   ],
   "source": [
    "plt.figure()\n",
    "plt.errorbar(times, w_means, yerr=w_stds)\n",
    "plt.xlabel(\"t/t0\")\n",
    "plt.ylabel(\"w/w0\")\n",
    "# plt.show()\n",
    "plt.savefig(\"w.png\", dpi=300)"
   ]
  },
  {
   "cell_type": "code",
   "execution_count": null,
   "metadata": {},
   "outputs": [],
   "source": []
  }
 ],
 "metadata": {
  "kernelspec": {
   "display_name": "Python 3",
   "language": "python",
   "name": "python3"
  },
  "language_info": {
   "codemirror_mode": {
    "name": "ipython",
    "version": 3
   },
   "file_extension": ".py",
   "mimetype": "text/x-python",
   "name": "python",
   "nbconvert_exporter": "python",
   "pygments_lexer": "ipython3",
   "version": "3.7.3"
  }
 },
 "nbformat": 4,
 "nbformat_minor": 2
}
